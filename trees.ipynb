{
  "cells": [
    {
      "cell_type": "markdown",
      "metadata": {
        "id": "view-in-github",
        "colab_type": "text"
      },
      "source": [
        "<a href=\"https://colab.research.google.com/github/graciemwilliams/trees/blob/main/trees.ipynb\" target=\"_parent\"><img src=\"https://colab.research.google.com/assets/colab-badge.svg\" alt=\"Open In Colab\"/></a>"
      ]
    },
    {
      "cell_type": "markdown",
      "metadata": {
        "id": "mzIwGkmAMiR9"
      },
      "source": [
        "# Assignment: Trees\n",
        "Do three questions."
      ]
    },
    {
      "cell_type": "markdown",
      "metadata": {
        "id": "7_sOKb7LMiR-"
      },
      "source": [
        "**Q1.** Please answer the following questions in your own words."
      ]
    },
    {
      "cell_type": "markdown",
      "source": [
        "1. How are trees constructed?\n",
        "Trees are constructed using a recursive process where the dataset is split into subsets based on the values of the features. At each node, the algorithm selects the feature and threshold that best separates the data into distinct classes (for classification) or predicts the target variable (for regression). This process continues until a stopping criterion is met, such as a maximum depth or minimum number of samples per leaf.\n",
        "\n",
        "2. How do trees handle non-linear relationships between variables? Compare this to linear models.\n",
        "Trees handle non-linear relationships by creating splits based on feature values, which allows them to model complex interactions between variables. Unlike linear models, which assume a linear relationship between the features and the target variable, trees can capture non-linear patterns by recursively partitioning the feature space. This makes trees more flexible and capable of modeling intricate relationships.\n",
        "\n",
        "3. Why is the Gini a good loss function for categorical target variables?\n",
        "The Gini impurity measures the likelihood of incorrect classification of a randomly chosen element if it were randomly labeled according to the distribution of labels in the dataset. It is a good loss function for categorical target variables because it helps to identify the best splits by minimizing the impurity, leading to more homogeneous and well-separated classes.\n",
        "\n",
        "4. Why do trees tend to overfit, and how can this tendency be constrained?\n",
        " Trees tend to overfit because they can create very specific rules that perfectly classify the training data, capturing noise and irrelevant patterns. This can be constrained by techniques such as pruning (removing branches that have little importance), setting a maximum depth, or requiring a minimum number of samples per leaf. Ensemble methods like Random Forests and Gradient Boosting also help by combining multiple trees to reduce overfitting.\n",
        "\n",
        "5. True or false, and explain: Trees only really perform well in situations with lots of categorical variables as features/covariates.\n",
        "False. Trees can perform well with both categorical and continuous variables. They are versatile and can handle different types of data effectively. While they are particularly good at handling categorical variables due to their ability to create distinct splits, they also work well with continuous variables by finding optimal thresholds for splits.\n",
        "\n",
        "6. Why don't most versions of classification/regression tree concept allow for more than two branches after a split?\n",
        "Most versions of classification/regression trees use binary splits because they simplify the tree structure and make the algorithm more efficient. Binary splits reduce the complexity of the decision-making process and make it easier to implement and understand. However, some tree algorithms do allow for multi-way splits, but they are less common.\n",
        "\n",
        "7. What are some heuristic ways you can examine a tree and decide whether it is probably over- or under-fitting?\n",
        "To examine a tree for over- or under-fitting, you can look at the depth of the tree and the number of leaves. A very deep tree with many leaves may indicate overfitting, as it is capturing too much detail from the training data. Conversely, a shallow tree with few leaves may indicate underfitting, as it is not capturing enough detail. Additionally, you can compare the performance of the tree on training and validation datasets; large discrepancies between the two suggest overfitting. Cross-validation and visual inspection of the tree structure can also provide insights into its fit."
      ],
      "metadata": {
        "id": "ENbK4vsRMuJK"
      }
    },
    {
      "cell_type": "markdown",
      "metadata": {
        "id": "35QgbAkmMiR_"
      },
      "source": [
        "**Q4.** This is a case study about trees using bond rating data. This is a dataset about bond ratings for different companies, alongside a bunch of business statistics and other data. Companies often have multiple reviews at different dates. We want to predict the bond rating (AAA, AA, A, BBB, BB, B, ..., C, D). Do business fundamentals predict the company's rating?\n",
        "\n",
        "1. Load the `./data/corporate_ratings.csv` dataset. How many observations and variables does it contain? Print out the first few rows of data.\n",
        "\n"
      ]
    },
    {
      "cell_type": "code",
      "source": [
        "import pandas as pd\n",
        "from sklearn.model_selection import train_test_split\n",
        "from sklearn.tree import DecisionTreeClassifier\n",
        "from sklearn.metrics import confusion_matrix, accuracy_score\n",
        "import seaborn as sns\n",
        "import matplotlib.pyplot as plt\n",
        "\n",
        "# import the corporate_ratings.csv file\n",
        "from google.colab import files\n",
        "uploaded = files.upload()\n",
        "df = pd.read_csv('corporate_ratings.csv')"
      ],
      "metadata": {
        "colab": {
          "base_uri": "https://localhost:8080/",
          "height": 74
        },
        "id": "sjH8Xy9oO-tz",
        "outputId": "313ee58c-59b1-4eb3-b5f3-ab0d51e914d6"
      },
      "execution_count": 4,
      "outputs": [
        {
          "output_type": "display_data",
          "data": {
            "text/plain": [
              "<IPython.core.display.HTML object>"
            ],
            "text/html": [
              "\n",
              "     <input type=\"file\" id=\"files-a0c6eb33-f8ce-4975-83a8-cf47479a7c80\" name=\"files[]\" multiple disabled\n",
              "        style=\"border:none\" />\n",
              "     <output id=\"result-a0c6eb33-f8ce-4975-83a8-cf47479a7c80\">\n",
              "      Upload widget is only available when the cell has been executed in the\n",
              "      current browser session. Please rerun this cell to enable.\n",
              "      </output>\n",
              "      <script>// Copyright 2017 Google LLC\n",
              "//\n",
              "// Licensed under the Apache License, Version 2.0 (the \"License\");\n",
              "// you may not use this file except in compliance with the License.\n",
              "// You may obtain a copy of the License at\n",
              "//\n",
              "//      http://www.apache.org/licenses/LICENSE-2.0\n",
              "//\n",
              "// Unless required by applicable law or agreed to in writing, software\n",
              "// distributed under the License is distributed on an \"AS IS\" BASIS,\n",
              "// WITHOUT WARRANTIES OR CONDITIONS OF ANY KIND, either express or implied.\n",
              "// See the License for the specific language governing permissions and\n",
              "// limitations under the License.\n",
              "\n",
              "/**\n",
              " * @fileoverview Helpers for google.colab Python module.\n",
              " */\n",
              "(function(scope) {\n",
              "function span(text, styleAttributes = {}) {\n",
              "  const element = document.createElement('span');\n",
              "  element.textContent = text;\n",
              "  for (const key of Object.keys(styleAttributes)) {\n",
              "    element.style[key] = styleAttributes[key];\n",
              "  }\n",
              "  return element;\n",
              "}\n",
              "\n",
              "// Max number of bytes which will be uploaded at a time.\n",
              "const MAX_PAYLOAD_SIZE = 100 * 1024;\n",
              "\n",
              "function _uploadFiles(inputId, outputId) {\n",
              "  const steps = uploadFilesStep(inputId, outputId);\n",
              "  const outputElement = document.getElementById(outputId);\n",
              "  // Cache steps on the outputElement to make it available for the next call\n",
              "  // to uploadFilesContinue from Python.\n",
              "  outputElement.steps = steps;\n",
              "\n",
              "  return _uploadFilesContinue(outputId);\n",
              "}\n",
              "\n",
              "// This is roughly an async generator (not supported in the browser yet),\n",
              "// where there are multiple asynchronous steps and the Python side is going\n",
              "// to poll for completion of each step.\n",
              "// This uses a Promise to block the python side on completion of each step,\n",
              "// then passes the result of the previous step as the input to the next step.\n",
              "function _uploadFilesContinue(outputId) {\n",
              "  const outputElement = document.getElementById(outputId);\n",
              "  const steps = outputElement.steps;\n",
              "\n",
              "  const next = steps.next(outputElement.lastPromiseValue);\n",
              "  return Promise.resolve(next.value.promise).then((value) => {\n",
              "    // Cache the last promise value to make it available to the next\n",
              "    // step of the generator.\n",
              "    outputElement.lastPromiseValue = value;\n",
              "    return next.value.response;\n",
              "  });\n",
              "}\n",
              "\n",
              "/**\n",
              " * Generator function which is called between each async step of the upload\n",
              " * process.\n",
              " * @param {string} inputId Element ID of the input file picker element.\n",
              " * @param {string} outputId Element ID of the output display.\n",
              " * @return {!Iterable<!Object>} Iterable of next steps.\n",
              " */\n",
              "function* uploadFilesStep(inputId, outputId) {\n",
              "  const inputElement = document.getElementById(inputId);\n",
              "  inputElement.disabled = false;\n",
              "\n",
              "  const outputElement = document.getElementById(outputId);\n",
              "  outputElement.innerHTML = '';\n",
              "\n",
              "  const pickedPromise = new Promise((resolve) => {\n",
              "    inputElement.addEventListener('change', (e) => {\n",
              "      resolve(e.target.files);\n",
              "    });\n",
              "  });\n",
              "\n",
              "  const cancel = document.createElement('button');\n",
              "  inputElement.parentElement.appendChild(cancel);\n",
              "  cancel.textContent = 'Cancel upload';\n",
              "  const cancelPromise = new Promise((resolve) => {\n",
              "    cancel.onclick = () => {\n",
              "      resolve(null);\n",
              "    };\n",
              "  });\n",
              "\n",
              "  // Wait for the user to pick the files.\n",
              "  const files = yield {\n",
              "    promise: Promise.race([pickedPromise, cancelPromise]),\n",
              "    response: {\n",
              "      action: 'starting',\n",
              "    }\n",
              "  };\n",
              "\n",
              "  cancel.remove();\n",
              "\n",
              "  // Disable the input element since further picks are not allowed.\n",
              "  inputElement.disabled = true;\n",
              "\n",
              "  if (!files) {\n",
              "    return {\n",
              "      response: {\n",
              "        action: 'complete',\n",
              "      }\n",
              "    };\n",
              "  }\n",
              "\n",
              "  for (const file of files) {\n",
              "    const li = document.createElement('li');\n",
              "    li.append(span(file.name, {fontWeight: 'bold'}));\n",
              "    li.append(span(\n",
              "        `(${file.type || 'n/a'}) - ${file.size} bytes, ` +\n",
              "        `last modified: ${\n",
              "            file.lastModifiedDate ? file.lastModifiedDate.toLocaleDateString() :\n",
              "                                    'n/a'} - `));\n",
              "    const percent = span('0% done');\n",
              "    li.appendChild(percent);\n",
              "\n",
              "    outputElement.appendChild(li);\n",
              "\n",
              "    const fileDataPromise = new Promise((resolve) => {\n",
              "      const reader = new FileReader();\n",
              "      reader.onload = (e) => {\n",
              "        resolve(e.target.result);\n",
              "      };\n",
              "      reader.readAsArrayBuffer(file);\n",
              "    });\n",
              "    // Wait for the data to be ready.\n",
              "    let fileData = yield {\n",
              "      promise: fileDataPromise,\n",
              "      response: {\n",
              "        action: 'continue',\n",
              "      }\n",
              "    };\n",
              "\n",
              "    // Use a chunked sending to avoid message size limits. See b/62115660.\n",
              "    let position = 0;\n",
              "    do {\n",
              "      const length = Math.min(fileData.byteLength - position, MAX_PAYLOAD_SIZE);\n",
              "      const chunk = new Uint8Array(fileData, position, length);\n",
              "      position += length;\n",
              "\n",
              "      const base64 = btoa(String.fromCharCode.apply(null, chunk));\n",
              "      yield {\n",
              "        response: {\n",
              "          action: 'append',\n",
              "          file: file.name,\n",
              "          data: base64,\n",
              "        },\n",
              "      };\n",
              "\n",
              "      let percentDone = fileData.byteLength === 0 ?\n",
              "          100 :\n",
              "          Math.round((position / fileData.byteLength) * 100);\n",
              "      percent.textContent = `${percentDone}% done`;\n",
              "\n",
              "    } while (position < fileData.byteLength);\n",
              "  }\n",
              "\n",
              "  // All done.\n",
              "  yield {\n",
              "    response: {\n",
              "      action: 'complete',\n",
              "    }\n",
              "  };\n",
              "}\n",
              "\n",
              "scope.google = scope.google || {};\n",
              "scope.google.colab = scope.google.colab || {};\n",
              "scope.google.colab._files = {\n",
              "  _uploadFiles,\n",
              "  _uploadFilesContinue,\n",
              "};\n",
              "})(self);\n",
              "</script> "
            ]
          },
          "metadata": {}
        },
        {
          "output_type": "stream",
          "name": "stdout",
          "text": [
            "Saving corporate_ratings.csv to corporate_ratings (1).csv\n"
          ]
        }
      ]
    },
    {
      "cell_type": "code",
      "source": [
        "# Get the number of observations and variables\n",
        "num_observations = df.shape[0]\n",
        "num_variables = df.shape[1]\n",
        "\n",
        "# Print the first few rows of data\n",
        "print(f\"The dataset contains {num_observations} observations and {num_variables} variables.\")\n",
        "print(df.head())"
      ],
      "metadata": {
        "colab": {
          "base_uri": "https://localhost:8080/"
        },
        "id": "HSDQTZp8Pc74",
        "outputId": "45c66b53-9c82-4f4a-db9d-54236cb125cc"
      },
      "execution_count": 5,
      "outputs": [
        {
          "output_type": "stream",
          "name": "stdout",
          "text": [
            "The dataset contains 2029 observations and 31 variables.\n",
            "  Rating                   Name Symbol                  Rating Agency Name  \\\n",
            "0      A  Whirlpool Corporation    WHR          Egan-Jones Ratings Company   \n",
            "1    BBB  Whirlpool Corporation    WHR          Egan-Jones Ratings Company   \n",
            "2    BBB  Whirlpool Corporation    WHR                       Fitch Ratings   \n",
            "3    BBB  Whirlpool Corporation    WHR                       Fitch Ratings   \n",
            "4    BBB  Whirlpool Corporation    WHR  Standard & Poor's Ratings Services   \n",
            "\n",
            "         Date             Sector  currentRatio  quickRatio  cashRatio  \\\n",
            "0  11/27/2015  Consumer Durables      0.945894    0.426395   0.099690   \n",
            "1   2/13/2014  Consumer Durables      1.033559    0.498234   0.203120   \n",
            "2    3/6/2015  Consumer Durables      0.963703    0.451505   0.122099   \n",
            "3   6/15/2012  Consumer Durables      1.019851    0.510402   0.176116   \n",
            "4  10/24/2016  Consumer Durables      0.957844    0.495432   0.141608   \n",
            "\n",
            "   daysOfSalesOutstanding  ...  effectiveTaxRate  \\\n",
            "0               44.203245  ...          0.202716   \n",
            "1               38.991156  ...          0.074155   \n",
            "2               50.841385  ...          0.214529   \n",
            "3               41.161738  ...          1.816667   \n",
            "4               47.761126  ...          0.166966   \n",
            "\n",
            "   freeCashFlowOperatingCashFlowRatio  freeCashFlowPerShare  cashPerShare  \\\n",
            "0                            0.437551              6.810673      9.809403   \n",
            "1                            0.541997              8.625473     17.402270   \n",
            "2                            0.513185              9.693487     13.103448   \n",
            "3                           -0.147170             -1.015625     14.440104   \n",
            "4                            0.451372              7.135348     14.257556   \n",
            "\n",
            "   companyEquityMultiplier  ebitPerRevenue  enterpriseValueMultiple  \\\n",
            "0                 4.008012        0.049351                 7.057088   \n",
            "1                 3.156783        0.048857                 6.460618   \n",
            "2                 4.094575        0.044334                10.491970   \n",
            "3                 3.630950       -0.012858                 4.080741   \n",
            "4                 4.012780        0.053770                 8.293505   \n",
            "\n",
            "   operatingCashFlowPerShare  operatingCashFlowSalesRatio  payablesTurnover  \n",
            "0                  15.565438                     0.058638          3.906655  \n",
            "1                  15.914250                     0.067239          4.002846  \n",
            "2                  18.888889                     0.074426          3.483510  \n",
            "3                   6.901042                     0.028394          4.581150  \n",
            "4                  15.808147                     0.058065          3.857790  \n",
            "\n",
            "[5 rows x 31 columns]\n"
          ]
        }
      ]
    },
    {
      "cell_type": "markdown",
      "source": [
        "2.  Plot a histogram of the `ratings` variable. It turns out that the gradations of AAA/AA/A and BBB/BB/B and so on make it hard to get good results with trees. Collapse all AAA/AA/A ratings into just A, and similarly for B and C.\n",
        "\n"
      ],
      "metadata": {
        "id": "Z6uFyer8RBnY"
      }
    },
    {
      "cell_type": "code",
      "source": [
        "# Collapse ratings\n",
        "df['Rating'] = df['Rating'].replace(['AAA', 'AA', 'A'], 'A')\n",
        "df['Rating'] = df['Rating'].replace(['BBB', 'BB', 'B'], 'B')\n",
        "df['Rating'] = df['Rating'].replace(['CCC', 'CC', 'C'], 'C')\n",
        "\n",
        "# Plot a histogram of the ratings variable\n",
        "plt.figure(figsize=(10, 6))\n",
        "df['Rating'].value_counts().plot(kind='bar')\n",
        "plt.xlabel('Ratings')\n",
        "plt.ylabel('Frequency')\n",
        "plt.title('Histogram of Ratings')\n",
        "plt.show()"
      ],
      "metadata": {
        "colab": {
          "base_uri": "https://localhost:8080/",
          "height": 561
        },
        "id": "f5s_beAqPgw2",
        "outputId": "f16c93a3-f0e9-4dba-dcf1-ef80b5d0b5c9"
      },
      "execution_count": 6,
      "outputs": [
        {
          "output_type": "display_data",
          "data": {
            "text/plain": [
              "<Figure size 1000x600 with 1 Axes>"
            ],
            "image/png": "[encoded data removed]"
          },
          "metadata": {}
        }
      ]
    },
    {
      "cell_type": "markdown",
      "source": [
        "3. Use all of the variables **except** Rating, Date, Name, Symbol, and Rating Agency Name. To include Sector, make a dummy/one-hot-encoded representation and include it in your features/covariates. Collect the relevant variables into a data matrix $X$.\n",
        "\n",
        "4. Do a train/test split of the data and use a decision tree classifier to predict the bond rating. Including a min_samples_leaf constraint can raise the accuracy and speed up computation time. Print a confusion matrix and the accuracy of your model. How well do you predict the different bond ratings?"
      ],
      "metadata": {
        "id": "p0RPThW3RICh"
      }
    },
    {
      "cell_type": "code",
      "source": [
        "# Load the dataset\n",
        "df = pd.read_csv('corporate_ratings.csv')\n",
        "\n",
        "# Collapse ratings into A, B, and C categories\n",
        "df['Rating'] = df['Rating'].replace(['AAA', 'AA', 'A'], 'A')\n",
        "df['Rating'] = df['Rating'].replace(['BBB', 'BB', 'B'], 'B')\n",
        "df['Rating'] = df['Rating'].replace(['CCC', 'CC', 'C', 'D'], 'C')\n",
        "\n",
        "# Drop unnecessary columns\n",
        "df = df.drop(columns=['Date', 'Name', 'Symbol', 'Rating Agency Name'])\n",
        "\n",
        "# One-hot encode the Sector column\n",
        "df = pd.get_dummies(df, columns=['Sector'])\n",
        "\n",
        "# Split the data into features and target variable\n",
        "X = df.drop(columns=['Rating'])\n",
        "y = df['Rating']\n",
        "\n",
        "# Perform a train/test split\n",
        "X_train, X_test, y_train, y_test = train_test_split(X, y, test_size=0.2, random_state=42)\n",
        "\n",
        "# Initialize and train the decision tree classifier with min_samples_leaf constraint\n",
        "clf = DecisionTreeClassifier(min_samples_leaf=5)\n",
        "clf.fit(X_train, y_train)\n",
        "\n",
        "# Make predictions on the test set\n",
        "y_pred = clf.predict(X_test)\n",
        "\n",
        "# Calculate the confusion matrix and accuracy\n",
        "conf_matrix = confusion_matrix(y_test, y_pred)\n",
        "accuracy = accuracy_score(y_test, y_pred)\n",
        "\n",
        "# Print the confusion matrix and accuracy\n",
        "print(\"Confusion Matrix:\")\n",
        "print(conf_matrix)\n",
        "print(f\"Accuracy: {accuracy}\")\n",
        "\n",
        "# Plot the confusion matrix\n",
        "sns.heatmap(conf_matrix, annot=True, fmt='d', cmap='Blues')\n",
        "plt.xlabel('Predicted')\n",
        "plt.ylabel('Actual')\n",
        "plt.title('Confusion Matrix')\n",
        "plt.show()"
      ],
      "metadata": {
        "colab": {
          "base_uri": "https://localhost:8080/",
          "height": 561
        },
        "id": "qG2iI_1SQqiA",
        "outputId": "c673b183-7033-4987-9484-4edafb5aae47"
      },
      "execution_count": 9,
      "outputs": [
        {
          "output_type": "stream",
          "name": "stdout",
          "text": [
            "Confusion Matrix:\n",
            "[[ 51  44   1]\n",
            " [ 45 237  12]\n",
            " [  0  15   1]]\n",
            "Accuracy: 0.7118226600985221\n"
          ]
        },
        {
          "output_type": "display_data",
          "data": {
            "text/plain": [
              "<Figure size 640x480 with 2 Axes>"
            ],
            "image/png": "[encoded data removed]"
          },
          "metadata": {}
        }
      ]
    },
    {
      "cell_type": "markdown",
      "source": [
        "5. If you include the rating agency as a feature/covariate/predictor variable, do the results change? How do you interpret this?"
      ],
      "metadata": {
        "id": "B2A1AkXlRMzo"
      }
    },
    {
      "cell_type": "code",
      "source": [
        "# Load the dataset\n",
        "df = pd.read_csv('corporate_ratings.csv')\n",
        "\n",
        "# Collapse ratings into A, B, and C categories\n",
        "df['Rating'] = df['Rating'].replace(['AAA', 'AA', 'A'], 'A')\n",
        "df['Rating'] = df['Rating'].replace(['BBB', 'BB', 'B'], 'B')\n",
        "df['Rating'] = df['Rating'].replace(['CCC', 'CC', 'C', 'D'], 'C')\n",
        "\n",
        "# Drop unnecessary columns\n",
        "df = df.drop(columns=['Date', 'Name', 'Symbol'])\n",
        "\n",
        "# One-hot encode the Sector and Rating Agency Name columns\n",
        "df = pd.get_dummies(df, columns=['Sector', 'Rating Agency Name'])\n",
        "\n",
        "# Split the data into features and target variable\n",
        "X = df.drop(columns=['Rating'])\n",
        "y = df['Rating']\n",
        "\n",
        "# Perform a train/test split\n",
        "X_train, X_test, y_train, y_test = train_test_split(X, y, test_size=0.2, random_state=42)\n",
        "\n",
        "# Initialize and train the decision tree classifier with min_samples_leaf constraint\n",
        "clf = DecisionTreeClassifier(min_samples_leaf=5)\n",
        "clf.fit(X_train, y_train)\n",
        "\n",
        "# Make predictions on the test set\n",
        "y_pred = clf.predict(X_test)\n",
        "\n",
        "# Calculate the confusion matrix and accuracy\n",
        "conf_matrix = confusion_matrix(y_test, y_pred)\n",
        "accuracy = accuracy_score(y_test, y_pred)\n",
        "\n",
        "# Print the confusion matrix and accuracy\n",
        "print(\"Confusion Matrix:\")\n",
        "print(conf_matrix)\n",
        "print(f\"Accuracy: {accuracy}\")\n",
        "\n",
        "# Plot the confusion matrix\n",
        "sns.heatmap(conf_matrix, annot=True, fmt='d', cmap='Blues')\n",
        "plt.xlabel('Predicted')\n",
        "plt.ylabel('Actual')\n",
        "plt.title('Confusion Matrix')\n",
        "plt.show()\n"
      ],
      "metadata": {
        "colab": {
          "base_uri": "https://localhost:8080/",
          "height": 651
        },
        "id": "Vae1GHsZQsSg",
        "outputId": "d3b61855-ca3c-4d50-8383-94d7ef4b691c"
      },
      "execution_count": 10,
      "outputs": [
        {
          "output_type": "stream",
          "name": "stdout",
          "text": [
            "Confusion Matrix:\n",
            "[[ 63  33   0]\n",
            " [ 52 231  11]\n",
            " [  3   8   5]]\n",
            "Accuracy: 0.7364532019704434\n"
          ]
        },
        {
          "output_type": "display_data",
          "data": {
            "text/plain": [
              "<Figure size 640x480 with 2 Axes>"
            ],
            "image/png": "[encoded data removed]"
          },
          "metadata": {}
        },
        {
          "output_type": "stream",
          "name": "stdout",
          "text": [
            "\n",
            "Including the rating agency as a feature/covariate/predictor variable can provide additional information that may improve the model's accuracy.\n",
            "In this case study, we observe that the accuracy of the model with the rating agency included is higher than the model without it.\n",
            "This suggests that the rating agency has an impact on predicting bond ratings and should be considered as an important feature in the model.\n",
            "\n"
          ]
        }
      ]
    },
    {
      "cell_type": "markdown",
      "source": [
        "Including the rating agency as a feature/covariate/predictor variable can provide additional information that may improve the model's accuracy.\n",
        "In this case study, we observe that the accuracy of the model with the rating agency included is higher than the model without it.\n",
        "This suggests that the rating agency has an impact on predicting bond ratings and should be considered as an important feature in the model."
      ],
      "metadata": {
        "id": "eTSmTWXlRPcV"
      }
    },
    {
      "cell_type": "markdown",
      "metadata": {
        "vscode": {
          "languageId": "plaintext"
        },
        "id": "GTdm1HHXMiR_"
      },
      "source": [
        "**Q6.** Show that any decision tree is equivalent to a linear regression on a set of dummy variables that represent the optimal splits in the tree.\n",
        "\n",
        "Hint: You can think of CART as partitioning the feature space into a set of sets $\\{S_1, S_2, ..., S_K\\}$, and then predicting the average for all of the observations in each set $S_k$, $m_k$:\n",
        "$$\n",
        "\\hat{y}(x) = \\sum_{k=1}^K \\mathbb{I}\\{ x \\text{ is in } S_k \\} m_k\n",
        "$$\n",
        "where $\\mathbb{I} \\{ P(x,k)\\}$ takes the value 1 if the proposition $P(x,k)$ is true and 0 otherwise. Now, doesn't that look like least-squares regression on a set of dummy/one-hot-encoded variables?\n",
        "\n",
        "Conversely, can any linear regression be represented by a tree?\n",
        "\n",
        " A decision tree partitions the feature space into regions ${S_1, S_2, ..., S_K}$ and predicts the average target value $m_k$ for observations in each region $S_k$. The prediction can be written as:\n",
        "\n",
        "y\n",
        "^\n",
        "(\n",
        "x\n",
        ")\n",
        "=\n",
        "∑\n",
        "k\n",
        "=\n",
        "1\n",
        "K\n",
        "I\n",
        "{\n",
        "x\n",
        " is in\n",
        "S\n",
        "k\n",
        "}\n",
        "m\n",
        "k\n",
        "y\n",
        "^\n",
        "​\n",
        " (x)=\n",
        "k=1\n",
        "∑\n",
        "K\n",
        "​\n",
        " I{x is in S\n",
        "k\n",
        "​\n",
        " }m\n",
        "k\n",
        "​\n",
        "\n",
        "where $\\mathbb{I}{ x \\text{ is in } S_k }$ is an indicator function.\n",
        "\n",
        "Linear regression can use dummy variables $d_k(x)$ to represent each region $S_k$. The model is:\n",
        "\n",
        "y\n",
        "^\n",
        "(\n",
        "x\n",
        ")\n",
        "=\n",
        "∑\n",
        "k\n",
        "=\n",
        "1\n",
        "K\n",
        "d\n",
        "k\n",
        "(\n",
        "x\n",
        ")\n",
        "β\n",
        "k\n",
        "y\n",
        "^\n",
        "​\n",
        " (x)=\n",
        "k=1\n",
        "∑\n",
        "K\n",
        "​\n",
        " d\n",
        "k\n",
        "​\n",
        " (x)β\n",
        "k\n",
        "​\n",
        "\n",
        "where $d_k(x)$ is 1 if $x$ is in region $S_k$, and 0 otherwise.\n",
        "\n",
        "The indicator function $\\mathbb{I}{ x \\text{ is in } S_k }$ is equivalent to the dummy variable $d_k(x)$, and $m_k$ is equivalent to $\\beta_k$. Thus, a decision tree can be represented as a linear regression on dummy variables.\n",
        "\n",
        "Not all linear regressions can be represented by a tree because linear regression models assume a linear relationship between features and the target variable, while trees create non-linear partitions of the feature space.\n"
      ]
    }
  ],
  "metadata": {
    "kernelspec": {
      "display_name": "base",
      "language": "python",
      "name": "python3"
    },
    "language_info": {
      "codemirror_mode": {
        "name": "ipython",
        "version": 3
      },
      "file_extension": ".py",
      "mimetype": "text/x-python",
      "name": "python",
      "nbconvert_exporter": "python",
      "pygments_lexer": "ipython3",
      "version": "3.12.2"
    },
    "colab": {
      "provenance": [],
      "include_colab_link": true
    }
  },
  "nbformat": 4,
  "nbformat_minor": 0
}